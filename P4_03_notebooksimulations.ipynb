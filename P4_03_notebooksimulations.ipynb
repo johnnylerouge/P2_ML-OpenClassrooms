{
 "cells": [
  {
   "cell_type": "code",
   "execution_count": null,
   "id": "a51832e8",
   "metadata": {},
   "outputs": [],
   "source": [
    "# Import des librairies nécessaires\n",
    "import numpy as np\n",
    "import pandas as pd\n",
    "import matplotlib.pyplot as plt\n",
    "import seaborn as sns\n",
    "%matplotlib inline\n",
    "import scipy.stats as stats\n",
    "import scipy\n",
    "import sklearn"
   ]
  },
  {
   "cell_type": "code",
   "execution_count": 2,
   "id": "c20dca94",
   "metadata": {},
   "outputs": [],
   "source": [
    "# On charge le dataset qui contient toutes les données répertoriées\n",
    "olist = pd.read_csv('olist.csv')"
   ]
  },
  {
   "cell_type": "markdown",
   "id": "be54ea3e",
   "metadata": {},
   "source": [
    "## Préparation des données"
   ]
  },
  {
   "cell_type": "markdown",
   "id": "7ac0130a",
   "metadata": {},
   "source": [
    "On procède à la préparation des données pour avoir les données concernant chaque période."
   ]
  },
  {
   "cell_type": "code",
   "execution_count": 43,
   "id": "11491ce6",
   "metadata": {},
   "outputs": [],
   "source": [
    "# On définit une fonction qui sélectionne les features qui nous ont déjà pour notre segmentation. Le paramètre ts\n",
    "# nous servira à avoir les données cumulées à une période t \n",
    "def clustering(df, ts):\n",
    "    df.order_purchase_timestamp = pd.to_datetime(df.order_purchase_timestamp)\n",
    "    df = df.loc[df.order_purchase_timestamp<=ts]\n",
    "    df = df [['orders_nb', 'nb_order_items', 'payment_value','product_description_lenght',\n",
    "              'product_photos_qty', 'product_weight_g', 'product_length_cm', 'product_height_cm',\n",
    "              'product_width_cm']]\n",
    "    return df"
   ]
  },
  {
   "cell_type": "code",
   "execution_count": 28,
   "id": "8e642e4d",
   "metadata": {},
   "outputs": [],
   "source": [
    "# On prend comme modèle de base les données concernant les commandes effectuées jusqu'à mai 2017 soit à T0 + 6 mois\n",
    "# T0 représentant la date de la première commande\n",
    "clustering_base = clustering(olist, '2017-05')"
   ]
  },
  {
   "cell_type": "code",
   "execution_count": 29,
   "id": "2d123fb7",
   "metadata": {},
   "outputs": [
    {
     "data": {
      "text/html": [
       "<div>\n",
       "<style scoped>\n",
       "    .dataframe tbody tr th:only-of-type {\n",
       "        vertical-align: middle;\n",
       "    }\n",
       "\n",
       "    .dataframe tbody tr th {\n",
       "        vertical-align: top;\n",
       "    }\n",
       "\n",
       "    .dataframe thead th {\n",
       "        text-align: right;\n",
       "    }\n",
       "</style>\n",
       "<table border=\"1\" class=\"dataframe\">\n",
       "  <thead>\n",
       "    <tr style=\"text-align: right;\">\n",
       "      <th></th>\n",
       "      <th>orders_nb</th>\n",
       "      <th>nb_order_items</th>\n",
       "      <th>payment_value</th>\n",
       "      <th>product_description_lenght</th>\n",
       "      <th>product_photos_qty</th>\n",
       "      <th>product_weight_g</th>\n",
       "      <th>product_length_cm</th>\n",
       "      <th>product_height_cm</th>\n",
       "      <th>product_width_cm</th>\n",
       "    </tr>\n",
       "  </thead>\n",
       "  <tbody>\n",
       "    <tr>\n",
       "      <th>2</th>\n",
       "      <td>1</td>\n",
       "      <td>1</td>\n",
       "      <td>86.22</td>\n",
       "      <td>177.0</td>\n",
       "      <td>3.0</td>\n",
       "      <td>1500.0</td>\n",
       "      <td>25.0</td>\n",
       "      <td>50.0</td>\n",
       "      <td>35.0</td>\n",
       "    </tr>\n",
       "    <tr>\n",
       "      <th>8</th>\n",
       "      <td>1</td>\n",
       "      <td>1</td>\n",
       "      <td>150.12</td>\n",
       "      <td>1118.0</td>\n",
       "      <td>6.0</td>\n",
       "      <td>2250.0</td>\n",
       "      <td>22.0</td>\n",
       "      <td>15.0</td>\n",
       "      <td>20.0</td>\n",
       "    </tr>\n",
       "    <tr>\n",
       "      <th>26</th>\n",
       "      <td>1</td>\n",
       "      <td>1</td>\n",
       "      <td>76.11</td>\n",
       "      <td>1854.0</td>\n",
       "      <td>6.0</td>\n",
       "      <td>525.0</td>\n",
       "      <td>29.0</td>\n",
       "      <td>16.0</td>\n",
       "      <td>20.0</td>\n",
       "    </tr>\n",
       "    <tr>\n",
       "      <th>27</th>\n",
       "      <td>1</td>\n",
       "      <td>1</td>\n",
       "      <td>297.14</td>\n",
       "      <td>278.0</td>\n",
       "      <td>1.0</td>\n",
       "      <td>200.0</td>\n",
       "      <td>18.0</td>\n",
       "      <td>8.0</td>\n",
       "      <td>16.0</td>\n",
       "    </tr>\n",
       "    <tr>\n",
       "      <th>34</th>\n",
       "      <td>1</td>\n",
       "      <td>1</td>\n",
       "      <td>58.86</td>\n",
       "      <td>200.0</td>\n",
       "      <td>1.0</td>\n",
       "      <td>600.0</td>\n",
       "      <td>40.0</td>\n",
       "      <td>5.0</td>\n",
       "      <td>30.0</td>\n",
       "    </tr>\n",
       "    <tr>\n",
       "      <th>...</th>\n",
       "      <td>...</td>\n",
       "      <td>...</td>\n",
       "      <td>...</td>\n",
       "      <td>...</td>\n",
       "      <td>...</td>\n",
       "      <td>...</td>\n",
       "      <td>...</td>\n",
       "      <td>...</td>\n",
       "      <td>...</td>\n",
       "    </tr>\n",
       "    <tr>\n",
       "      <th>95788</th>\n",
       "      <td>1</td>\n",
       "      <td>1</td>\n",
       "      <td>110.70</td>\n",
       "      <td>111.0</td>\n",
       "      <td>1.0</td>\n",
       "      <td>1750.0</td>\n",
       "      <td>30.0</td>\n",
       "      <td>20.0</td>\n",
       "      <td>25.0</td>\n",
       "    </tr>\n",
       "    <tr>\n",
       "      <th>95790</th>\n",
       "      <td>1</td>\n",
       "      <td>1</td>\n",
       "      <td>162.10</td>\n",
       "      <td>1132.0</td>\n",
       "      <td>2.0</td>\n",
       "      <td>350.0</td>\n",
       "      <td>18.0</td>\n",
       "      <td>15.0</td>\n",
       "      <td>16.0</td>\n",
       "    </tr>\n",
       "    <tr>\n",
       "      <th>95804</th>\n",
       "      <td>1</td>\n",
       "      <td>1</td>\n",
       "      <td>665.70</td>\n",
       "      <td>779.0</td>\n",
       "      <td>2.0</td>\n",
       "      <td>7100.0</td>\n",
       "      <td>36.0</td>\n",
       "      <td>47.0</td>\n",
       "      <td>32.0</td>\n",
       "    </tr>\n",
       "    <tr>\n",
       "      <th>95809</th>\n",
       "      <td>1</td>\n",
       "      <td>1</td>\n",
       "      <td>32.42</td>\n",
       "      <td>647.0</td>\n",
       "      <td>1.0</td>\n",
       "      <td>225.0</td>\n",
       "      <td>18.0</td>\n",
       "      <td>16.0</td>\n",
       "      <td>46.0</td>\n",
       "    </tr>\n",
       "    <tr>\n",
       "      <th>95828</th>\n",
       "      <td>1</td>\n",
       "      <td>1</td>\n",
       "      <td>112.46</td>\n",
       "      <td>716.0</td>\n",
       "      <td>5.0</td>\n",
       "      <td>600.0</td>\n",
       "      <td>17.0</td>\n",
       "      <td>15.0</td>\n",
       "      <td>13.0</td>\n",
       "    </tr>\n",
       "  </tbody>\n",
       "</table>\n",
       "<p>7464 rows × 9 columns</p>\n",
       "</div>"
      ],
      "text/plain": [
       "       orders_nb  nb_order_items  payment_value  product_description_lenght  \\\n",
       "2              1               1          86.22                       177.0   \n",
       "8              1               1         150.12                      1118.0   \n",
       "26             1               1          76.11                      1854.0   \n",
       "27             1               1         297.14                       278.0   \n",
       "34             1               1          58.86                       200.0   \n",
       "...          ...             ...            ...                         ...   \n",
       "95788          1               1         110.70                       111.0   \n",
       "95790          1               1         162.10                      1132.0   \n",
       "95804          1               1         665.70                       779.0   \n",
       "95809          1               1          32.42                       647.0   \n",
       "95828          1               1         112.46                       716.0   \n",
       "\n",
       "       product_photos_qty  product_weight_g  product_length_cm  \\\n",
       "2                     3.0            1500.0               25.0   \n",
       "8                     6.0            2250.0               22.0   \n",
       "26                    6.0             525.0               29.0   \n",
       "27                    1.0             200.0               18.0   \n",
       "34                    1.0             600.0               40.0   \n",
       "...                   ...               ...                ...   \n",
       "95788                 1.0            1750.0               30.0   \n",
       "95790                 2.0             350.0               18.0   \n",
       "95804                 2.0            7100.0               36.0   \n",
       "95809                 1.0             225.0               18.0   \n",
       "95828                 5.0             600.0               17.0   \n",
       "\n",
       "       product_height_cm  product_width_cm  \n",
       "2                   50.0              35.0  \n",
       "8                   15.0              20.0  \n",
       "26                  16.0              20.0  \n",
       "27                   8.0              16.0  \n",
       "34                   5.0              30.0  \n",
       "...                  ...               ...  \n",
       "95788               20.0              25.0  \n",
       "95790               15.0              16.0  \n",
       "95804               47.0              32.0  \n",
       "95809               16.0              46.0  \n",
       "95828               15.0              13.0  \n",
       "\n",
       "[7464 rows x 9 columns]"
      ]
     },
     "execution_count": 29,
     "metadata": {},
     "output_type": "execute_result"
    }
   ],
   "source": [
    "clustering_base"
   ]
  },
  {
   "cell_type": "code",
   "execution_count": 30,
   "id": "e8229e5b",
   "metadata": {},
   "outputs": [
    {
     "data": {
      "text/plain": [
       "array([0, 0, 3, ..., 5, 3, 3], dtype=int32)"
      ]
     },
     "execution_count": 30,
     "metadata": {},
     "output_type": "execute_result"
    }
   ],
   "source": [
    "# On entraîne un modèle KMean sur notre modèle de base\n",
    "from sklearn.cluster import KMeans\n",
    "kmean = KMeans(n_clusters=6, max_iter=10000)\n",
    "kmean.fit_predict(clustering_base)"
   ]
  },
  {
   "cell_type": "markdown",
   "id": "6a8b12a9",
   "metadata": {},
   "source": [
    "# Calcul ARI Score\n",
    "\n",
    "Définition : le ARI (adjusted rank index) mesure la similarité de deux prédictions. C'est un indicateur fiable de la stabilité d'une segmentation.\n",
    "\n",
    "Principe : \n",
    "\n",
    "    1) On entraîne les données représentant les clients de la période T0 sur un modèle M0. On obtient les labels L0.\n",
    "    \n",
    "    2) On sélectionne les données des clients de la période T0+t et on les entraîne sur un modèle M1. On obtient les labels L1M1.\n",
    "    \n",
    "    3) On prédit les labels de la période T0+t avec M0 pour obtenir les labels L1M0.\n",
    "    \n",
    "    4) On calcule le ARI de la période T0+t à l'aide de L1M0 et L1M1.\n",
    "    "
   ]
  },
  {
   "cell_type": "code",
   "execution_count": 31,
   "id": "74188545",
   "metadata": {},
   "outputs": [],
   "source": [
    "# Fonction qui prend en paramètre les données cumulatives à l'instant t ainsi que le modèle KMeans entraîné \n",
    "# sur le clustering de base \n",
    "\n",
    "from sklearn import metrics\n",
    "from sklearn.metrics import adjusted_rand_score\n",
    "def ARI_score(clustering, kmean):\n",
    "    kmeans_Update = KMeans(n_clusters=6, max_iter=10000)\n",
    "    kmeans_Update.fit(clustering)\n",
    "    return metrics.adjusted_rand_score(kmeans_Update.labels_, kmean.predict(clustering))"
   ]
  },
  {
   "cell_type": "code",
   "execution_count": 32,
   "id": "1e003aa0",
   "metadata": {},
   "outputs": [],
   "source": [
    "# Stockage de dates dans une liste pour obtenir les données de chaque période\n",
    "dates = ['2017-07', '2017-08', '2017-09', '2017-10', '2017-11', '2017-12', '2018-01', '2018-02', '2018-03','2018-04', '2018-05', '2018-06', '2018-07', '2018-08','2018-09']"
   ]
  },
  {
   "cell_type": "code",
   "execution_count": 38,
   "id": "b94d0e28",
   "metadata": {
    "collapsed": true
   },
   "outputs": [
    {
     "name": "stderr",
     "output_type": "stream",
     "text": [
      "/home/jo/miniconda3/envs/johnny_lerouge/lib/python3.8/site-packages/sklearn/metrics/cluster/_supervised.py:389: RuntimeWarning: overflow encountered in long_scalars\n",
      "  return 2. * (tp * tn - fn * fp) / ((tp + fn) * (fn + tn) +\n",
      "/home/jo/miniconda3/envs/johnny_lerouge/lib/python3.8/site-packages/sklearn/metrics/cluster/_supervised.py:389: RuntimeWarning: overflow encountered in long_scalars\n",
      "  return 2. * (tp * tn - fn * fp) / ((tp + fn) * (fn + tn) +\n",
      "/home/jo/miniconda3/envs/johnny_lerouge/lib/python3.8/site-packages/sklearn/metrics/cluster/_supervised.py:389: RuntimeWarning: overflow encountered in long_scalars\n",
      "  return 2. * (tp * tn - fn * fp) / ((tp + fn) * (fn + tn) +\n",
      "/home/jo/miniconda3/envs/johnny_lerouge/lib/python3.8/site-packages/sklearn/metrics/cluster/_supervised.py:390: RuntimeWarning: overflow encountered in long_scalars\n",
      "  (tp + fp) * (fp + tn))\n",
      "/home/jo/miniconda3/envs/johnny_lerouge/lib/python3.8/site-packages/sklearn/metrics/cluster/_supervised.py:389: RuntimeWarning: overflow encountered in long_scalars\n",
      "  return 2. * (tp * tn - fn * fp) / ((tp + fn) * (fn + tn) +\n",
      "/home/jo/miniconda3/envs/johnny_lerouge/lib/python3.8/site-packages/sklearn/metrics/cluster/_supervised.py:390: RuntimeWarning: overflow encountered in long_scalars\n",
      "  (tp + fp) * (fp + tn))\n",
      "/home/jo/miniconda3/envs/johnny_lerouge/lib/python3.8/site-packages/sklearn/metrics/cluster/_supervised.py:389: RuntimeWarning: overflow encountered in long_scalars\n",
      "  return 2. * (tp * tn - fn * fp) / ((tp + fn) * (fn + tn) +\n",
      "/home/jo/miniconda3/envs/johnny_lerouge/lib/python3.8/site-packages/sklearn/metrics/cluster/_supervised.py:390: RuntimeWarning: overflow encountered in long_scalars\n",
      "  (tp + fp) * (fp + tn))\n"
     ]
    }
   ],
   "source": [
    "# On va stocker les scores ARI des différents obtenus dans la liste scores afin de plot la courbe représentant \n",
    "# les variations du ARI score\n",
    "scores = []\n",
    "for i in dates:\n",
    "    scores.append(ARI_score(clustering(olist, i), kmean))"
   ]
  },
  {
   "cell_type": "code",
   "execution_count": 75,
   "id": "77bafb68",
   "metadata": {},
   "outputs": [
    {
     "data": {
      "text/plain": [
       "[0.9957813967366965,\n",
       " 0.9719280714047123,\n",
       " 0.9901507904064424,\n",
       " 0.9893696629421169,\n",
       " 0.9749003385577947,\n",
       " 0.9928019580007447,\n",
       " 0.9922311485838876,\n",
       " 0.9915700344427746,\n",
       " 0.9916498039720306,\n",
       " 0.9799684865805456,\n",
       " 0.023212765156241266,\n",
       " 0.21125898298196066,\n",
       " 0.38593447186005125,\n",
       " 0.20164460763658432,\n",
       " 0.7316704767675398]"
      ]
     },
     "execution_count": 75,
     "metadata": {},
     "output_type": "execute_result"
    }
   ],
   "source": [
    "# Affichage des scores ARI\n",
    "scores"
   ]
  },
  {
   "cell_type": "code",
   "execution_count": 76,
   "id": "20d8641e",
   "metadata": {},
   "outputs": [
    {
     "data": {
      "text/plain": [
       "Text(0, 0.5, 'Score ARI')"
      ]
     },
     "execution_count": 76,
     "metadata": {},
     "output_type": "execute_result"
    },
    {
     "data": {
      "image/png": "[encoded data removed]",
      "text/plain": [
       "<Figure size 1152x648 with 1 Axes>"
      ]
     },
     "metadata": {},
     "output_type": "display_data"
    }
   ],
   "source": [
    "# Graphe représentant l'évolution du ARI score à travers le temps \n",
    "sns.set(rc={'figure.figsize':(16,9)}, font_scale = 2)\n",
    "\n",
    "plt.plot(scores, 'b', marker = 'o', linewidth = 4,markeredgewidth = 5)\n",
    "plt.xlim(0,18)\n",
    "plt.xlabel('Evolution du score ARI au cours du temps', fontsize=25)\n",
    "plt.ylabel('Score ARI', fontsize=25)"
   ]
  },
  {
   "cell_type": "markdown",
   "id": "0f8b8a6c",
   "metadata": {},
   "source": [
    "## Conclusion"
   ]
  },
  {
   "cell_type": "markdown",
   "id": "87503ec1",
   "metadata": {},
   "source": [
    "On voit que, selon le ARI score, le clustering est très robuste durant les 10 premiers mois suivants le clustering de base. \n",
    "\n",
    "Néanmoins il s'effondre au 11e mois. Nous proposerons donc à notre client une mise à jour de la segmentation tous les 9 mois afin de s'adapter au changement de comportement des clients."
   ]
  }
 ],
 "metadata": {
  "kernelspec": {
   "display_name": "Python 3",
   "language": "python",
   "name": "python3"
  },
  "language_info": {
   "codemirror_mode": {
    "name": "ipython",
    "version": 3
   },
   "file_extension": ".py",
   "mimetype": "text/x-python",
   "name": "python",
   "nbconvert_exporter": "python",
   "pygments_lexer": "ipython3",
   "version": "3.8.11"
  }
 },
 "nbformat": 4,
 "nbformat_minor": 5
}
